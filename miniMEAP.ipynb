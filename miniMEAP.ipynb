{
 "cells": [
  {
   "cell_type": "code",
   "execution_count": 3,
   "id": "7dea3254",
   "metadata": {},
   "outputs": [
    {
     "name": "stdout",
     "output_type": "stream",
     "text": [
      "/home/nmd/l/Caitlin_TREV/miniMEAP/sj06_RADARS.txt successfully loaded\n"
     ]
    }
   ],
   "source": [
    "## CELL 1: LOAD ###\n",
    "# run this cell to load your datafile through the GUI (currently only works with txt, in Radars template)\n",
    "# outputs a 0 if there's an error loading the file\n",
    "\n",
    "from miniMEAPsys import loadem\n",
    "df,file_stat=loadem()\n",
    "print(file_stat)"
   ]
  },
  {
   "cell_type": "code",
   "execution_count": 9,
   "id": "e55a0dd2",
   "metadata": {},
   "outputs": [],
   "source": [
    "## CELL 2: OPEN THE INTERACTIVE PLOT ###\n",
    "# run this cell to open the interactive plot to visualise and amend peaks\n",
    "\n",
    "import pandas as pd\n",
    "import matplotlib.pyplot as plt\n",
    "from matplotlib.widgets import Slider\n",
    "import numpy as np\n",
    "from miniMEAPsys import *\n",
    "\n",
    "%matplotlib tk\n",
    "plt.close('all')\n",
    "fig,ax = plt.subplots()\n",
    "plt.subplots_adjust(bottom=0.25)\n",
    "\n",
    "t,s,peak_times,peak_vals = get_ts(df)\n",
    "\n",
    "w = ax.plot(t,s)\n",
    "peak_plot, = ax.plot(peak_times,peak_vals ,'vm')\n",
    "\n",
    "# Set the axis and slider position in the plot\n",
    "bottom_pos = plt.axes([0.2, 0.1, 0.65, 0.03],facecolor = 'white')\n",
    "scroll_slider = Slider(bottom_pos,'time', -1,t[-1])\n",
    "\n",
    "# Make a vertically oriented slider to control the amplitude\n",
    "right_pos = plt.axes([.95, 0.25, 0.0225, 0.63])\n",
    "y_zoom = Slider(right_pos,label=\"Y zoom\",valmin=0,valmax=1,valinit=.5,orientation=\"vertical\")\n",
    "left_pos = plt.axes([.05, 0.25, 0.0225, 0.63])\n",
    "x_zoom = Slider(left_pos,label=\"X zoom\",valmin=0,valmax=1,valinit=.5,orientation=\"vertical\")\n",
    "\n",
    "ax.set_xlim(-1,4)\n",
    "\n",
    "def update(val):\n",
    "    pos = scroll_slider.val\n",
    "    yzoom = y_zoom.val\n",
    "    xzoom = x_zoom.val\n",
    "    ax.set_xlim(pos, pos+10*xzoom)\n",
    "    fig.canvas.draw_idle\n",
    "    ax.set_ylim(-yzoom, yzoom)\n",
    "    fig.canvas.draw_idle\n",
    "    \n",
    "# update function called using on_changed() function\n",
    "scroll_slider.on_changed(update)\n",
    "y_zoom.on_changed(update)\n",
    "x_zoom.on_changed(update)\n",
    "\n",
    "# Display the plot\n",
    "plt.show()\n",
    "\n",
    "def onclick(event):\n",
    "    global peak_times,peak_vals,fig,peak_plot\n",
    "    ix, iy, ib, ik = event.xdata, event.ydata, event.button, event.key\n",
    "    if (ix!=None):\n",
    "        if (np.min(np.abs(ix-peak_times))<100) & (event.button!=1) & (ik==None):\n",
    "            peak_times,peak_vals,peak_plot=remove_point(ix,peak_times,peak_vals,peak_plot)\n",
    "        elif (event.button==1) & (ik==None):\n",
    "            peak_times,peak_vals,peak_plot=add_point(ix,iy,peak_times,peak_vals,peak_plot)\n",
    "        elif (ik=='m'):\n",
    "            peak_times,peak_vals,peak_plot=meap_dat(ix,iy,peak_times,peak_vals,peak_plot)\n",
    "        fig.canvas.draw()\n",
    "        fig.canvas.flush_events()\n",
    "        \n",
    "        if not plt.fignum_exists(1):\n",
    "            canvas.mpl_disconnect(cid)\n",
    "            canvas.mpl_disconnect(cidk)\n",
    "            \n",
    "    return peak_times,peak_vals\n",
    "\n",
    "def onarrow(e):\n",
    "    global scroll_slider\n",
    "    if e.key == \"right\":\n",
    "        pos = ax.get_xlim()\n",
    "        scroll_slider.set_val(pos[0]+.500)\n",
    "    elif e.key == \"left\":\n",
    "        pos = ax.get_xlim()\n",
    "        scroll_slider.set_val(pos[0]-.500)\n",
    "    else:\n",
    "        return\n",
    "\n",
    "cid = fig.canvas.mpl_connect('button_press_event', onclick)\n",
    "cidk = fig.canvas.mpl_connect('key_press_event', onarrow)"
   ]
  }
 ],
 "metadata": {
  "kernelspec": {
   "display_name": "Python 3 (ipykernel)",
   "language": "python",
   "name": "python3"
  },
  "language_info": {
   "codemirror_mode": {
    "name": "ipython",
    "version": 3
   },
   "file_extension": ".py",
   "mimetype": "text/x-python",
   "name": "python",
   "nbconvert_exporter": "python",
   "pygments_lexer": "ipython3",
   "version": "3.8.12"
  }
 },
 "nbformat": 4,
 "nbformat_minor": 5
}
